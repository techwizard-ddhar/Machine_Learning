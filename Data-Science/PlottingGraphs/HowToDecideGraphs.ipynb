{
 "cells": [
  {
   "cell_type": "markdown",
   "id": "72242870-1c84-43c7-82b2-7e7090b77281",
   "metadata": {},
   "source": [
    "# Line and Bar Graphs are used to see the trends\n",
    "# Bar Grpahs --> Few Data\n",
    "# Line --> Huge amount of Data\n",
    "# Scatter --> co-relation between two variables\n",
    "# Pie chart --> percentage distribution\n",
    "# Bubble charts --> \"Bubble charts are often used to represent three-dimensional data sets, where the x and y coordinates represent two dimensions, and the size of the bubbles represents the third dimension.\"\n",
    "# Histogram --> frequency distribution"
   ]
  },
  {
   "cell_type": "code",
   "execution_count": null,
   "id": "f222db0d-97a3-4e2d-a309-0ada061e94d9",
   "metadata": {},
   "outputs": [],
   "source": []
  }
 ],
 "metadata": {
  "kernelspec": {
   "display_name": "Python 3 (ipykernel)",
   "language": "python",
   "name": "python3"
  },
  "language_info": {
   "codemirror_mode": {
    "name": "ipython",
    "version": 3
   },
   "file_extension": ".py",
   "mimetype": "text/x-python",
   "name": "python",
   "nbconvert_exporter": "python",
   "pygments_lexer": "ipython3",
   "version": "3.11.4"
  }
 },
 "nbformat": 4,
 "nbformat_minor": 5
}
