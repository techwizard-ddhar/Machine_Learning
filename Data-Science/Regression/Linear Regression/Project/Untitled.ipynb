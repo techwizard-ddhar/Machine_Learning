{
 "cells": [
  {
   "cell_type": "code",
   "execution_count": 29,
   "id": "cf2edbe1-b67e-45a1-bc06-4844c57bf8de",
   "metadata": {},
   "outputs": [],
   "source": [
    "import pandas as pd\n",
    "import numpy as np\n",
    "import matplotlib.pyplot as plt\n",
    "from sklearn import datasets"
   ]
  },
  {
   "cell_type": "code",
   "execution_count": 34,
   "id": "17bf3f8a-9f78-48e6-89da-9c841a833de9",
   "metadata": {},
   "outputs": [],
   "source": [
    "df = pd.read_csv(\"data.csv\", delimiter=\",\")"
   ]
  },
  {
   "cell_type": "code",
   "execution_count": 35,
   "id": "3d8bd9cc-81b7-4683-8785-ee3e779a8a7c",
   "metadata": {},
   "outputs": [
    {
     "data": {
      "text/plain": [
       "(331, 11)"
      ]
     },
     "execution_count": 35,
     "metadata": {},
     "output_type": "execute_result"
    }
   ],
   "source": [
    "df.shape"
   ]
  },
  {
   "cell_type": "code",
   "execution_count": 38,
   "id": "4cbc443a-4c5c-4f68-8329-5450c3abb9fb",
   "metadata": {},
   "outputs": [
    {
     "data": {
      "text/html": [
       "<div>\n",
       "<style scoped>\n",
       "    .dataframe tbody tr th:only-of-type {\n",
       "        vertical-align: middle;\n",
       "    }\n",
       "\n",
       "    .dataframe tbody tr th {\n",
       "        vertical-align: top;\n",
       "    }\n",
       "\n",
       "    .dataframe thead th {\n",
       "        text-align: right;\n",
       "    }\n",
       "</style>\n",
       "<table border=\"1\" class=\"dataframe\">\n",
       "  <thead>\n",
       "    <tr style=\"text-align: right;\">\n",
       "      <th></th>\n",
       "      <th># age</th>\n",
       "      <th>sex</th>\n",
       "      <th>bmi</th>\n",
       "      <th>bp</th>\n",
       "      <th>s1</th>\n",
       "      <th>s2</th>\n",
       "      <th>s3</th>\n",
       "      <th>s4</th>\n",
       "      <th>s5</th>\n",
       "      <th>s6</th>\n",
       "      <th>Y</th>\n",
       "    </tr>\n",
       "  </thead>\n",
       "  <tbody>\n",
       "    <tr>\n",
       "      <th>count</th>\n",
       "      <td>331.000000</td>\n",
       "      <td>331.000000</td>\n",
       "      <td>331.000000</td>\n",
       "      <td>331.000000</td>\n",
       "      <td>331.000000</td>\n",
       "      <td>331.000000</td>\n",
       "      <td>331.000000</td>\n",
       "      <td>331.000000</td>\n",
       "      <td>331.000000</td>\n",
       "      <td>331.000000</td>\n",
       "      <td>331.000000</td>\n",
       "    </tr>\n",
       "    <tr>\n",
       "      <th>mean</th>\n",
       "      <td>-0.000214</td>\n",
       "      <td>-0.000293</td>\n",
       "      <td>0.000053</td>\n",
       "      <td>-0.001045</td>\n",
       "      <td>-0.001423</td>\n",
       "      <td>-0.001220</td>\n",
       "      <td>0.000440</td>\n",
       "      <td>-0.001473</td>\n",
       "      <td>-0.001594</td>\n",
       "      <td>0.000099</td>\n",
       "      <td>149.722054</td>\n",
       "    </tr>\n",
       "    <tr>\n",
       "      <th>std</th>\n",
       "      <td>0.047207</td>\n",
       "      <td>0.047618</td>\n",
       "      <td>0.048627</td>\n",
       "      <td>0.047621</td>\n",
       "      <td>0.047371</td>\n",
       "      <td>0.046936</td>\n",
       "      <td>0.047303</td>\n",
       "      <td>0.046591</td>\n",
       "      <td>0.048088</td>\n",
       "      <td>0.047263</td>\n",
       "      <td>76.796907</td>\n",
       "    </tr>\n",
       "    <tr>\n",
       "      <th>min</th>\n",
       "      <td>-0.107226</td>\n",
       "      <td>-0.044642</td>\n",
       "      <td>-0.090275</td>\n",
       "      <td>-0.102071</td>\n",
       "      <td>-0.126781</td>\n",
       "      <td>-0.115613</td>\n",
       "      <td>-0.102307</td>\n",
       "      <td>-0.076395</td>\n",
       "      <td>-0.126097</td>\n",
       "      <td>-0.137767</td>\n",
       "      <td>25.000000</td>\n",
       "    </tr>\n",
       "    <tr>\n",
       "      <th>25%</th>\n",
       "      <td>-0.034575</td>\n",
       "      <td>-0.044642</td>\n",
       "      <td>-0.035307</td>\n",
       "      <td>-0.036656</td>\n",
       "      <td>-0.035968</td>\n",
       "      <td>-0.029967</td>\n",
       "      <td>-0.032356</td>\n",
       "      <td>-0.039493</td>\n",
       "      <td>-0.035817</td>\n",
       "      <td>-0.034215</td>\n",
       "      <td>84.000000</td>\n",
       "    </tr>\n",
       "    <tr>\n",
       "      <th>50%</th>\n",
       "      <td>0.005383</td>\n",
       "      <td>-0.044642</td>\n",
       "      <td>-0.008362</td>\n",
       "      <td>-0.005671</td>\n",
       "      <td>-0.004321</td>\n",
       "      <td>-0.004445</td>\n",
       "      <td>-0.006584</td>\n",
       "      <td>-0.002592</td>\n",
       "      <td>-0.005145</td>\n",
       "      <td>-0.001078</td>\n",
       "      <td>138.000000</td>\n",
       "    </tr>\n",
       "    <tr>\n",
       "      <th>75%</th>\n",
       "      <td>0.038076</td>\n",
       "      <td>0.050680</td>\n",
       "      <td>0.030979</td>\n",
       "      <td>0.032775</td>\n",
       "      <td>0.027326</td>\n",
       "      <td>0.028905</td>\n",
       "      <td>0.026550</td>\n",
       "      <td>0.034309</td>\n",
       "      <td>0.032124</td>\n",
       "      <td>0.027917</td>\n",
       "      <td>202.000000</td>\n",
       "    </tr>\n",
       "    <tr>\n",
       "      <th>max</th>\n",
       "      <td>0.110727</td>\n",
       "      <td>0.050680</td>\n",
       "      <td>0.170555</td>\n",
       "      <td>0.132044</td>\n",
       "      <td>0.153914</td>\n",
       "      <td>0.198788</td>\n",
       "      <td>0.181179</td>\n",
       "      <td>0.185234</td>\n",
       "      <td>0.133599</td>\n",
       "      <td>0.135612</td>\n",
       "      <td>346.000000</td>\n",
       "    </tr>\n",
       "  </tbody>\n",
       "</table>\n",
       "</div>"
      ],
      "text/plain": [
       "            # age         sex         bmi          bp          s1          s2  \\\n",
       "count  331.000000  331.000000  331.000000  331.000000  331.000000  331.000000   \n",
       "mean    -0.000214   -0.000293    0.000053   -0.001045   -0.001423   -0.001220   \n",
       "std      0.047207    0.047618    0.048627    0.047621    0.047371    0.046936   \n",
       "min     -0.107226   -0.044642   -0.090275   -0.102071   -0.126781   -0.115613   \n",
       "25%     -0.034575   -0.044642   -0.035307   -0.036656   -0.035968   -0.029967   \n",
       "50%      0.005383   -0.044642   -0.008362   -0.005671   -0.004321   -0.004445   \n",
       "75%      0.038076    0.050680    0.030979    0.032775    0.027326    0.028905   \n",
       "max      0.110727    0.050680    0.170555    0.132044    0.153914    0.198788   \n",
       "\n",
       "               s3          s4          s5          s6           Y  \n",
       "count  331.000000  331.000000  331.000000  331.000000  331.000000  \n",
       "mean     0.000440   -0.001473   -0.001594    0.000099  149.722054  \n",
       "std      0.047303    0.046591    0.048088    0.047263   76.796907  \n",
       "min     -0.102307   -0.076395   -0.126097   -0.137767   25.000000  \n",
       "25%     -0.032356   -0.039493   -0.035817   -0.034215   84.000000  \n",
       "50%     -0.006584   -0.002592   -0.005145   -0.001078  138.000000  \n",
       "75%      0.026550    0.034309    0.032124    0.027917  202.000000  \n",
       "max      0.181179    0.185234    0.133599    0.135612  346.000000  "
      ]
     },
     "execution_count": 38,
     "metadata": {},
     "output_type": "execute_result"
    }
   ],
   "source": [
    "df.describe()"
   ]
  },
  {
   "cell_type": "code",
   "execution_count": 43,
   "id": "3a17f47e-227a-43ad-abd4-efee6f7a452c",
   "metadata": {},
   "outputs": [],
   "source": [
    "x = df.iloc[:, :10]  # Select all rows and the first 10 columns\n",
    "y = df.iloc[:, :10]  # Select all rows and the first 10 columns\n"
   ]
  },
  {
   "cell_type": "code",
   "execution_count": 44,
   "id": "b69bcd37-df8d-461d-a104-35ed20220932",
   "metadata": {},
   "outputs": [
    {
     "data": {
      "text/plain": [
       "(331, 10)"
      ]
     },
     "execution_count": 44,
     "metadata": {},
     "output_type": "execute_result"
    }
   ],
   "source": [
    "x.shape"
   ]
  },
  {
   "cell_type": "code",
   "execution_count": 45,
   "id": "db43dd88-a03d-4efc-80fd-5a6383f98094",
   "metadata": {},
   "outputs": [
    {
     "data": {
      "text/plain": [
       "(331, 10)"
      ]
     },
     "execution_count": 45,
     "metadata": {},
     "output_type": "execute_result"
    }
   ],
   "source": [
    "y.shape"
   ]
  },
  {
   "cell_type": "code",
   "execution_count": null,
   "id": "8d92a434-5cca-40ae-80f6-a0080b0ea69f",
   "metadata": {},
   "outputs": [],
   "source": []
  }
 ],
 "metadata": {
  "kernelspec": {
   "display_name": "Python 3 (ipykernel)",
   "language": "python",
   "name": "python3"
  },
  "language_info": {
   "codemirror_mode": {
    "name": "ipython",
    "version": 3
   },
   "file_extension": ".py",
   "mimetype": "text/x-python",
   "name": "python",
   "nbconvert_exporter": "python",
   "pygments_lexer": "ipython3",
   "version": "3.11.4"
  }
 },
 "nbformat": 4,
 "nbformat_minor": 5
}
