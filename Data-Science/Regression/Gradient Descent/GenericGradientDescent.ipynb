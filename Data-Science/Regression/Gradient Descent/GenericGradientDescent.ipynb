{
 "cells": [
  {
   "cell_type": "markdown",
   "metadata": {},
   "source": [
    "In mathematical notation, a dataset with \"m\" rows and \"n\" features can be represented as \n",
    "a matrix X with dimensions (m x n), where each element X[i,j] corresponds to \n",
    "the value of the j-th {feature} for the i-th {row}."
   ]
  },
  {
   "cell_type": "code",
   "execution_count": 2,
   "metadata": {},
   "outputs": [
    {
     "name": "stdout",
     "output_type": "stream",
     "text": [
      "0 Cost : 1485.652621595884\n",
      "1 Cost : 458.4008018325014\n",
      "2 Cost : 199.7274628352812\n",
      "3 Cost : 134.590662860195\n",
      "4 Cost : 118.18849815531217\n",
      "5 Cost : 114.05825216366071\n",
      "6 Cost : 113.01821066557271\n",
      "7 Cost : 112.7563167445008\n",
      "8 Cost : 112.69036896643561\n",
      "9 Cost : 112.67376258850246\n",
      "Theta: [1.47799182]\n"
     ]
    }
   ],
   "source": [
    "import numpy as np\n",
    "\n",
    "def step_gradient(points, learning_rate, theta):\n",
    "    num_features = len(theta)\n",
    "    theta_slope = np.zeros(num_features)\n",
    "    N = len(points)  # No. of rows\n",
    "    for i in range(N):\n",
    "        x = points[i, :-1]  # Input features (excluding the last column)\n",
    "        y = points[i, -1]   # Target variable (last column)\n",
    "        for j in range(num_features):\n",
    "            theta_slope[j] += (-2/N) * (y - np.dot(theta, x)) * x[j]\n",
    "    new_theta = theta - learning_rate * theta_slope\n",
    "    return new_theta\n",
    "\n",
    "# df.shape(rows, columns)\n",
    "# df.shape[0]--->Rows\n",
    "# df.shape[1]--->Columns\n",
    "# df.shape[1]-1---> Exclude Last column\n",
    "# theta = np.zeros(num_features)---> [0,0,....0]\n",
    "\n",
    "def gradient_descent(data, learning_rate, num_iterations):\n",
    "    num_features = data.shape[1] - 1 \n",
    "    theta = np.zeros(num_features)\n",
    "    for i in range(num_iterations):\n",
    "        theta = step_gradient(data, learning_rate, theta)\n",
    "        print(i, \"Cost :\", cost(data, theta))\n",
    "    return theta\n",
    "\n",
    "def cost(data, theta):\n",
    "    total_cost = 0\n",
    "    N = len(data)\n",
    "    for i in range(N):\n",
    "        x = data[i, :-1]\n",
    "        y = data[i, -1]\n",
    "        total_cost += (1/N) * (y - np.dot(theta, x)) ** 2\n",
    "    return total_cost\n",
    "\n",
    "def run():\n",
    "    data = np.loadtxt(\"data.csv\", delimiter=\",\")\n",
    "    learning_rate = 0.0001\n",
    "    num_iterations = 10\n",
    "    theta = gradient_descent(data, learning_rate, num_iterations)\n",
    "    print(\"Theta:\", theta)\n",
    "\n",
    "run()\n"
   ]
  },
  {
   "cell_type": "code",
   "execution_count": null,
   "metadata": {},
   "outputs": [],
   "source": []
  }
 ],
 "metadata": {
  "kernelspec": {
   "display_name": "Python 3 (ipykernel)",
   "language": "python",
   "name": "python3"
  },
  "language_info": {
   "codemirror_mode": {
    "name": "ipython",
    "version": 3
   },
   "file_extension": ".py",
   "mimetype": "text/x-python",
   "name": "python",
   "nbconvert_exporter": "python",
   "pygments_lexer": "ipython3",
   "version": "3.11.4"
  }
 },
 "nbformat": 4,
 "nbformat_minor": 4
}
