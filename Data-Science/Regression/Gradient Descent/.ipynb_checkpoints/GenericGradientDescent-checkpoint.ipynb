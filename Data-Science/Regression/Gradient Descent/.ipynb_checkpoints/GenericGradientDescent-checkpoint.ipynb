{
 "cells": [
  {
   "cell_type": "code",
   "execution_count": 3,
   "metadata": {},
   "outputs": [],
   "source": [
    "import numpy as np"
   ]
  },
  {
   "cell_type": "code",
   "execution_count": 12,
   "metadata": {},
   "outputs": [
    {
     "data": {
      "text/plain": [
       "(100, 2)"
      ]
     },
     "execution_count": 12,
     "metadata": {},
     "output_type": "execute_result"
    }
   ],
   "source": [
    "data = np.loadtxt(\"data.csv\", delimiter=\",\")\n",
    "data.shape"
   ]
  },
  {
   "cell_type": "code",
   "execution_count": 23,
   "metadata": {},
   "outputs": [
    {
     "name": "stdout",
     "output_type": "stream",
     "text": [
      "Iteration 0: m = 0.7370702973591053, c = 0.014547010110737297, cost = -5565.107834483213\n",
      "Iteration 1: m = 1.1067954543515157, c = 0.02187396295959641, cost = -1486.719109014127\n",
      "Iteration 2: m = 1.2922546649131115, c = 0.025579224321293136, cost = -459.47714645041697\n",
      "Iteration 3: m = 1.385283255651245, c = 0.027467789559144355, cost = -200.47876358969415\n",
      "Iteration 4: m = 1.4319472323843205, c = 0.028445071981738963, cost = -135.045804258332\n",
      "Iteration 5: m = 1.4553540088980408, c = 0.028965240766478616, cost = -118.44885468137116\n",
      "Iteration 6: m = 1.4670946177201354, c = 0.029256114126046697, cost = -114.206009338921\n",
      "Iteration 7: m = 1.4729832982243762, c = 0.029431969163807123, cost = -113.1048976990788\n",
      "Iteration 8: m = 1.4759365618962286, c = 0.029550129024383066, cost = -112.8110003863775\n",
      "Iteration 9: m = 1.47741737554838, c = 0.029639347874732384, cost = -112.72860577037702\n",
      "Final parameters: 1.47741737554838 0.029639347874732384\n"
     ]
    }
   ],
   "source": [
    "m = 0\n",
    "c = 0\n",
    "num_iteration = 10\n",
    "learning_rate = 0.0001\n",
    "N = len(data)\n",
    "\n",
    "for i in range(num_iteration):\n",
    "    m_slope = 0\n",
    "    c_slope = 0\n",
    "    costs = 0\n",
    "    \n",
    "    for j in range(N):\n",
    "        x = data[j, 0]\n",
    "        y = data[j, 1]\n",
    "        m_slope += (-2/N) * (y - m * x - c) * x\n",
    "        c_slope += (-2/N) * (y - m * x - c)\n",
    "        costs += (-1/N) * (y - (m * x) + c)**2\n",
    "    \n",
    "    new_m = m - learning_rate * m_slope\n",
    "    new_c = c - learning_rate * c_slope\n",
    "    m = new_m\n",
    "    c = new_c\n",
    "    \n",
    "    print(f\"Iteration {i}: m = {m}, c = {c}, cost = {costs}\")\n",
    "\n",
    "print(\"Final parameters:\", m, c)\n"
   ]
  },
  {
   "cell_type": "code",
   "execution_count": 21,
   "metadata": {},
   "outputs": [
    {
     "name": "stdout",
     "output_type": "stream",
     "text": [
      "Iteration 1: m = 0.7370702973591053, c = 0.014547010110737297, cost = -5565.107834483213\n",
      "Iteration 2: m = 1.1067954543515157, c = 0.02187396295959641, cost = -1486.719109014127\n",
      "Iteration 3: m = 1.2922546649131115, c = 0.025579224321293136, cost = -459.47714645041697\n",
      "Iteration 4: m = 1.385283255651245, c = 0.027467789559144355, cost = -200.47876358969415\n",
      "Iteration 5: m = 1.4319472323843205, c = 0.028445071981738963, cost = -135.045804258332\n",
      "Iteration 6: m = 1.4553540088980408, c = 0.028965240766478616, cost = -118.44885468137116\n",
      "Iteration 7: m = 1.4670946177201354, c = 0.029256114126046697, cost = -114.206009338921\n",
      "Iteration 8: m = 1.4729832982243762, c = 0.029431969163807123, cost = -113.1048976990788\n",
      "Iteration 9: m = 1.4759365618962286, c = 0.029550129024383066, cost = -112.8110003863775\n",
      "Iteration 10: m = 1.47741737554838, c = 0.029639347874732384, cost = -112.72860577037702\n",
      "Final parameters: 1.47741737554838 0.029639347874732384\n"
     ]
    }
   ],
   "source": [
    "m = 0\n",
    "c = 0\n",
    "num_iteration = 10\n",
    "learning_rate = 0.0001\n",
    "N = len(data)\n",
    "\n",
    "for i in range(num_iteration):\n",
    "    m_slope = 0\n",
    "    c_slope = 0\n",
    "    costs = 0\n",
    "    \n",
    "    for j in range(N):\n",
    "        x = data[j, 0]\n",
    "        y = data[j, 1]\n",
    "        m_slope += (-2/N) * (y - m * x - c) * x\n",
    "        c_slope += (-2/N) * (y - m * x - c)\n",
    "        costs += (-1/N) * (y - (m * x) + c)**2\n",
    "    \n",
    "    new_m = m - learning_rate * m_slope\n",
    "    new_c = c - learning_rate * c_slope\n",
    "    m = new_m\n",
    "    c = new_c\n",
    "    \n",
    "    print(f\"Iteration {i+1}: m = {m}, c = {c}, cost = {costs}\")\n",
    "\n",
    "print(\"Final parameters:\", m, c)\n"
   ]
  },
  {
   "cell_type": "code",
   "execution_count": null,
   "metadata": {},
   "outputs": [],
   "source": []
  }
 ],
 "metadata": {
  "kernelspec": {
   "display_name": "Python 3 (ipykernel)",
   "language": "python",
   "name": "python3"
  },
  "language_info": {
   "codemirror_mode": {
    "name": "ipython",
    "version": 3
   },
   "file_extension": ".py",
   "mimetype": "text/x-python",
   "name": "python",
   "nbconvert_exporter": "python",
   "pygments_lexer": "ipython3",
   "version": "3.11.4"
  }
 },
 "nbformat": 4,
 "nbformat_minor": 4
}
